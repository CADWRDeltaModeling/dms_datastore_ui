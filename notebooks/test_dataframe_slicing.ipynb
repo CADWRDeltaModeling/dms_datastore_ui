{
 "cells": [
  {
   "cell_type": "code",
   "execution_count": 2,
   "metadata": {},
   "outputs": [
    {
     "name": "stdout",
     "output_type": "stream",
     "text": [
      "Empty DataFrame\n",
      "Columns: [value]\n",
      "Index: []\n"
     ]
    }
   ],
   "source": [
    "import pandas as pd\n",
    "import numpy as np\n",
    "\n",
    "# Create a sample DataFrame with a datetime index\n",
    "date_rng = pd.date_range(start='2023-01-01', end='2023-01-10', freq='D')\n",
    "data = {'value': range(10)}\n",
    "df = pd.DataFrame(data, index=date_rng)\n",
    "\n",
    "# Define the date range for your desired slice\n",
    "start_date = pd.to_datetime('2023-02-03')\n",
    "end_date = pd.to_datetime('2023-02-08')\n",
    "\n",
    "# Slice the DataFrame, filling missing values with NaN\n",
    "result = df.loc[start_date:end_date]\n",
    "\n",
    "# If the slice is outside the bounds, it will return NaN values\n",
    "print(result)\n"
   ]
  },
  {
   "cell_type": "code",
   "execution_count": null,
   "metadata": {},
   "outputs": [],
   "source": []
  }
 ],
 "metadata": {
  "kernelspec": {
   "display_name": "dms_datastore_ui",
   "language": "python",
   "name": "python3"
  },
  "language_info": {
   "codemirror_mode": {
    "name": "ipython",
    "version": 3
   },
   "file_extension": ".py",
   "mimetype": "text/x-python",
   "name": "python",
   "nbconvert_exporter": "python",
   "pygments_lexer": "ipython3",
   "version": "3.11.6"
  }
 },
 "nbformat": 4,
 "nbformat_minor": 2
}

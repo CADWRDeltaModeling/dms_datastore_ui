{
 "cells": [
  {
   "cell_type": "code",
   "execution_count": 3,
   "metadata": {},
   "outputs": [
    {
     "name": "stdout",
     "output_type": "stream",
     "text": [
      "  station  subloc param\n",
      "0       A       1     x\n",
      "1       C       1     x\n"
     ]
    }
   ],
   "source": [
    "import pandas as pd\n",
    "\n",
    "# Sample DataFrame\n",
    "data = {\n",
    "    'station': ['A', 'B', 'C', 'A'],\n",
    "    'subloc': [1, 2, 1, 2],\n",
    "    'param': ['x', 'y', 'x', 'z']\n",
    "}\n",
    "df = pd.DataFrame(data)\n",
    "\n",
    "# Your list of tuples\n",
    "tuples = [('A', 1, 'x'), ('C', 1, 'x')]\n",
    "\n",
    "# Convert tuples to a DataFrame for easy comparison\n",
    "tuples_df = pd.DataFrame(tuples, columns=['station', 'subloc', 'param'])\n",
    "\n",
    "# Query the DataFrame\n",
    "result = df.merge(tuples_df, on=['station', 'subloc', 'param'])\n",
    "\n",
    "print(result)\n"
   ]
  },
  {
   "cell_type": "code",
   "execution_count": 11,
   "metadata": {},
   "outputs": [
    {
     "name": "stdout",
     "output_type": "stream",
     "text": [
      "[0, 2]\n"
     ]
    }
   ],
   "source": [
    "import pandas as pd\n",
    "\n",
    "# Sample DataFrame\n",
    "data = {\n",
    "    'station': ['A', 'B', 'C', 'A'],\n",
    "    'subloc': ['', 2, 1, 2],\n",
    "    'param': ['x', 'y', 'x', 'z']\n",
    "}\n",
    "df = pd.DataFrame(data)\n",
    "\n",
    "# Your list of tuples\n",
    "tuples = [('A', '', 'x'), ('C', 1, 'x')]\n",
    "\n",
    "# Convert list of tuples to a DataFrame\n",
    "tuples_df = pd.DataFrame(tuples, columns=['station', 'subloc', 'param'])\n",
    "\n",
    "# Use isin method for boolean indexing\n",
    "mask = df.isin(tuples_df.to_dict(orient='list')).all(axis=1)\n",
    "\n",
    "# Get the indices of matched rows\n",
    "matched_indices = df.index[mask].tolist()\n",
    "\n",
    "print(matched_indices)\n"
   ]
  },
  {
   "cell_type": "code",
   "execution_count": 12,
   "metadata": {},
   "outputs": [
    {
     "data": {
      "text/plain": [
       "station    object\n",
       "subloc     object\n",
       "param      object\n",
       "dtype: object"
      ]
     },
     "execution_count": 12,
     "metadata": {},
     "output_type": "execute_result"
    }
   ],
   "source": [
    "df.dtypes"
   ]
  },
  {
   "cell_type": "code",
   "execution_count": null,
   "metadata": {},
   "outputs": [],
   "source": []
  }
 ],
 "metadata": {
  "kernelspec": {
   "display_name": "dms_datastore_ui",
   "language": "python",
   "name": "python3"
  },
  "language_info": {
   "codemirror_mode": {
    "name": "ipython",
    "version": 3
   },
   "file_extension": ".py",
   "mimetype": "text/x-python",
   "name": "python",
   "nbconvert_exporter": "python",
   "pygments_lexer": "ipython3",
   "version": "3.11.6"
  }
 },
 "nbformat": 4,
 "nbformat_minor": 2
}
